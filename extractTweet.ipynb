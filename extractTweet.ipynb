{
 "cells": [
  {
   "cell_type": "code",
   "execution_count": 1,
   "metadata": {},
   "outputs": [],
   "source": [
    "import tweepy\n",
    "from tweepy.streaming import StreamListener\n",
    "from tweepy import OAuthHandler\n",
    "from tweepy import Stream"
   ]
  },
  {
   "cell_type": "code",
   "execution_count": 2,
   "metadata": {},
   "outputs": [],
   "source": [
    "#Twitter API credentials\n",
    "consumer_key = \"9OonTG9gOKk7W9B1ytxgU84xZ\"\n",
    "consumer_secret = \"QTZLgI1L2CVi5ycbUcIN0LRNPnQktFaYGksvqYKJGJMz88vNmM\"\n",
    "access_token = \"958992275572391936-ipH449c5DanUBSZT2HVQgw17tk6qzuC\"\n",
    "access_token_secret = \"cMbSQui5l2GYhsHfxDWH7a3HHoUGlmsF8uoly4kUnAEh7\""
   ]
  },
  {
   "cell_type": "code",
   "execution_count": 3,
   "metadata": {},
   "outputs": [],
   "source": [
    "# Creating the authentication object\n",
    "auth = tweepy.OAuthHandler(consumer_key, consumer_secret)\n",
    "# Setting your access token and secret\n",
    "auth.set_access_token(access_token, access_token_secret)\n",
    "# Creating the API object while passing in auth information\n",
    "api = tweepy.API(auth) "
   ]
  },
  {
   "cell_type": "code",
   "execution_count": 4,
   "metadata": {},
   "outputs": [
    {
     "name": "stdout",
     "output_type": "stream",
     "text": [
      "flmwsh RT @Jafarfadets: Bill Clinton : 11 lettres\n",
      "George W Bush : 11 lettres\n",
      "Barack Obama : 11 lettres\n",
      "Donald Trump : 11 lettres\n",
      "Coincidence : 11…\n",
      "DamienSmp Take a mic il est incroyablement fort cet enfoire\n",
      "sputnik_fr 📌 #SputnikExclusif  Vous avez dit fantôme? Existent-ils pour de vrai ou ne seraient-ils que le fruit de l’imaginati… https://t.co/jQZTHYpNMd\n",
      "sarahmghr j’ai avancé ma chaise jusqu’à la fenêtre pour voir la neige, j’veux pas qu’elle parte cette pute\n",
      "sputnik_fr 📸 #SputnikPhotos \"Vélizy c'est l'apocalypse\": la RN 118 est totalement fermée entre Pont de Sèvres et #Vélizy dans… https://t.co/bc9elM8DJ9\n",
      "sputnik_fr La Chine est devenue le troisième pays à maîtriser la technologie d’interception des missiles balistiques à l’étape… https://t.co/BP1hkNgyBK\n",
      "flmwsh RT @CelianVlt: qd on sprend un 13-0 sur Fifa https://t.co/DnfismpXzI\n",
      "sarahmghr RT @backofpiou: super je suis donc un chien https://t.co/vMHcVqskYW\n",
      "sarahmghr j’prie juste pour que la neige tienne toute la nuit pour continuer à jouer comme une enfant de 5 ans\n",
      "sputnik_fr 📰 #LuDansLaPresse Silvio Berlusconi fait son grand retour en politique\n",
      "https://t.co/v8yNyucCN5 https://t.co/fE9mdkubEo\n",
      "sarahmghr j’attends ton signe\n",
      "j'crois qu'y en a pas\n",
      "j’ai vu que t'as vu\n",
      "tu réponds pas\n",
      "sarahmghr j'aimerai que tu cèdes\n",
      "à mes propositions\n",
      "éloignons-nous d'ici\n",
      "prends ça comme une mission\n",
      "devenons invisibles\n",
      "ornikkar Réforme dans la fonction publique : vers un Ministère des Départs Volontaires ? (Par Schvartz) https://t.co/NWjYaRqGe1\n",
      "sputnik_fr Un récent discours de Rex Tillerson est l'occasion pour le ministère russe des Affaires étrangères de révéler sa vi… https://t.co/itlF7HeU3K\n",
      "JVCom 🔴 ENCORE une nouvelle série de films Star Wars annoncée ! Chapeautée par Benioff et Weiss, les créateurs de la séri… https://t.co/jHu1jzkws9\n",
      "creapills Un \"Rubik's Cube bougie\" qu'il faut résoudre sans se brûler les doigts... Pourquoi ? 🤔\n",
      "\n",
      "Crédits :… https://t.co/nbRvMxmVWD\n",
      "sputnik_fr 📰 #LuDansLaPresse La bulle explose: le marché américain s'effondre, les investisseurs fuient\n",
      "https://t.co/LAP610irwH https://t.co/AJiuHjJ3xE\n",
      "ornikkar RT @ChaunuShow: Pour @OuestFrance demain : #neige paris #neige #meteofrance #Météo https://t.co/M9rDIZ4IJ5\n",
      "ornikkar RT @SNCF: @alainjuppe Lors d'intempéries, des mesures de sécurité sont prises pour réduire la vitesse sur les lignes. En effet, la vitesse…\n",
      "sputnik_fr «Repose en paix, ami. Un brave et véritable soldat»: le monde rend hommage au pilote du #Su25 abattu en Syrie… https://t.co/4zrZk9yEwB\n"
     ]
    }
   ],
   "source": [
    "# Using the API object to get tweets from your timeline, and storing it in a variable called public_tweets\n",
    "public_tweets = api.home_timeline()\n",
    "# foreach through all tweets pulled\n",
    "for tweet in public_tweets:\n",
    "   # printing the text stored inside the tweet object\n",
    "   print (tweet.user.screen_name , tweet.text)"
   ]
  },
  {
   "cell_type": "code",
   "execution_count": 11,
   "metadata": {},
   "outputs": [
    {
     "name": "stdout",
     "output_type": "stream",
     "text": [
      "ouai c'est bon deja\n"
     ]
    }
   ],
   "source": [
    "# The Twitter user who we want to get tweets from\n",
    "name = \"malcomachat\"\n",
    "# Number of tweets to pull\n",
    "tweetCount = 1\n",
    "\n",
    "# Calling the user_timeline function with our parameters\n",
    "results = api.user_timeline(id=name, count=tweetCount)\n",
    "\n",
    "# foreach through all tweets pulled\n",
    "for tweet in results:\n",
    "   # printing the text stored inside the tweet object\n",
    "   print (tweet.text)"
   ]
  },
  {
   "cell_type": "code",
   "execution_count": 14,
   "metadata": {},
   "outputs": [
    {
     "name": "stdout",
     "output_type": "stream",
     "text": [
      "AlgerienMonPote Tweeted: @RyZn1 @DaoIvoirien @MatthiieuPSG @ActuFoot_ Giroud n'a pas un quart du talent de Benzema tu veux quoi ?\n",
      "lxcas_frfr Tweeted: RT @sofoot: Nolan Roux cette saison, c'est plus de buts en championnat que Karim Benzema, qu'Antoine Griezmann, qu'Alexandre Lacazette et q…\n",
      "MuschaCaliente Tweeted: RT @Salerga2: Giroud + Morata a chelsea ptdrrrr il vont sposer dans la chambre d'hôtel toute la nuit il vont critiquer Benzema comme les me…\n",
      "Abdoulaye10222 Tweeted: RT @yannoujr10: Wah regarder les réponses Giroud c’est une légende laba on se rend pas compte https://t.co/gEomLRmxcQ\n",
      "Fadette100 Tweeted: #VendrediLecture  je termine ce soir   \"le bon plaisir\" de Françoise Giroud. Vraiment plaisant 🤠\n",
      "Taraky75 Tweeted: RT @JeanLasablo: @beinsports_FR Peter crouch la référence ... un sous- Giroud\n",
      "SisaNjitap Tweeted: RT @Salerga2: Giroud + Morata a chelsea ptdrrrr il vont sposer dans la chambre d'hôtel toute la nuit il vont critiquer Benzema comme les me…\n",
      "zacha_ritra Tweeted: RT @s_strost: Giroud et Sanchez ils emmènent leurs poisses partout https://t.co/mrVv923JVq\n",
      "Jon_Neymar10 Tweeted: Giroud nan j deconne . Ngolo kanté j aime bien https://t.co/oM1gkaGGwM\n",
      "Monkey_D_LeM Tweeted: J-4 le sujet commence à comprendre des choses inattendues comme pourquoi Deschamps préfère sélectionner Giroud que… https://t.co/YGxaU09DKa\n",
      "ThomasBaziret Tweeted: @HisSimon On peut toujours tester hein apres tout Giroud a signer à chelsea\n",
      "JaphetLbk Tweeted: RT @ActuFoot_: Giroud : \"Je voulais vraiment jouer plus et rester en Premier League. Chelsea est parfait pour moi, car je peux rester à Lon…\n",
      "PetiteFIeur_ Tweeted: RT @Salerga2: Giroud + Morata a chelsea ptdrrrr il vont sposer dans la chambre d'hôtel toute la nuit il vont critiquer Benzema comme les me…\n",
      "AVadopa Tweeted: RT @s_strost: Giroud et Sanchez ils emmènent leurs poisses partout https://t.co/mrVv923JVq\n",
      "ERlCANDRE3000 Tweeted: RT @Salerga2: Giroud + Morata a chelsea ptdrrrr il vont sposer dans la chambre d'hôtel toute la nuit il vont critiquer Benzema comme les me…\n"
     ]
    }
   ],
   "source": [
    "# The search term you want to find\n",
    "query = \"giroud\"\n",
    "# Language code (follows ISO 639-1 standards)\n",
    "language = \"fr\"\n",
    "\n",
    "# Calling the user_timeline function with our parameters\n",
    "results = api.search(q=query, lang=language)\n",
    "\n",
    "# foreach through all tweets pulled\n",
    "for tweet in results:\n",
    "   # printing the text stored inside the tweet object\n",
    "   print (tweet.user.screen_name,\"Tweeted:\",tweet.text)"
   ]
  },
  {
   "cell_type": "code",
   "execution_count": null,
   "metadata": {},
   "outputs": [],
   "source": []
  }
 ],
 "metadata": {
  "kernelspec": {
   "display_name": "Python 3",
   "language": "python",
   "name": "python3"
  },
  "language_info": {
   "codemirror_mode": {
    "name": "ipython",
    "version": 3
   },
   "file_extension": ".py",
   "mimetype": "text/x-python",
   "name": "python",
   "nbconvert_exporter": "python",
   "pygments_lexer": "ipython3",
   "version": "3.6.3"
  }
 },
 "nbformat": 4,
 "nbformat_minor": 2
}
